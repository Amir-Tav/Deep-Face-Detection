{
 "cells": [
  {
   "cell_type": "markdown",
   "metadata": {},
   "source": [
    "**End to end Face Detection**\n",
    "\n",
    "Before we start with the project we need to setup our environment and get the data ready which can be done as follow:\n",
    "* installing all the dependencies\n",
    "* collecting images"
   ]
  },
  {
   "cell_type": "code",
   "execution_count": 1,
   "metadata": {},
   "outputs": [
    {
     "name": "stdout",
     "output_type": "stream",
     "text": [
      "Collecting labelme\n",
      "  Using cached labelme-5.5.0-py3-none-any.whl\n",
      "Collecting tensorflow\n",
      "  Using cached tensorflow-2.18.0-cp311-cp311-win_amd64.whl.metadata (3.3 kB)\n",
      "Requirement already satisfied: opencv-python in d:\\coding projects\\deep-face-detection\\.venv\\lib\\site-packages (4.10.0.84)\n",
      "Requirement already satisfied: matplotlib in d:\\coding projects\\deep-face-detection\\.venv\\lib\\site-packages (3.9.2)\n",
      "Requirement already satisfied: albumentations in d:\\coding projects\\deep-face-detection\\.venv\\lib\\site-packages (1.4.20)\n",
      "Requirement already satisfied: gdown in d:\\coding projects\\deep-face-detection\\.venv\\lib\\site-packages (from labelme) (5.2.0)\n",
      "Requirement already satisfied: imgviz>=1.7.5 in d:\\coding projects\\deep-face-detection\\.venv\\lib\\site-packages (from labelme) (1.7.5)\n",
      "Requirement already satisfied: natsort>=7.1.0 in d:\\coding projects\\deep-face-detection\\.venv\\lib\\site-packages (from labelme) (8.4.0)\n",
      "Requirement already satisfied: numpy in d:\\coding projects\\deep-face-detection\\.venv\\lib\\site-packages (from labelme) (2.0.2)\n",
      "Requirement already satisfied: onnxruntime!=1.16.0,>=1.14.1 in d:\\coding projects\\deep-face-detection\\.venv\\lib\\site-packages (from labelme) (1.19.2)\n",
      "Requirement already satisfied: Pillow>=2.8 in d:\\coding projects\\deep-face-detection\\.venv\\lib\\site-packages (from labelme) (11.0.0)\n",
      "Requirement already satisfied: PyYAML in d:\\coding projects\\deep-face-detection\\.venv\\lib\\site-packages (from labelme) (6.0.2)\n",
      "Requirement already satisfied: qtpy!=1.11.2 in d:\\coding projects\\deep-face-detection\\.venv\\lib\\site-packages (from labelme) (2.4.1)\n",
      "Requirement already satisfied: scikit-image in d:\\coding projects\\deep-face-detection\\.venv\\lib\\site-packages (from labelme) (0.24.0)\n",
      "Requirement already satisfied: termcolor in d:\\coding projects\\deep-face-detection\\.venv\\lib\\site-packages (from labelme) (2.5.0)\n",
      "Requirement already satisfied: PyQt5!=5.15.3,!=5.15.4 in d:\\coding projects\\deep-face-detection\\.venv\\lib\\site-packages (from labelme) (5.15.11)\n",
      "Requirement already satisfied: colorama in d:\\coding projects\\deep-face-detection\\.venv\\lib\\site-packages (from labelme) (0.4.6)\n",
      "Requirement already satisfied: tensorflow-intel==2.18.0 in d:\\coding projects\\deep-face-detection\\.venv\\lib\\site-packages (from tensorflow) (2.18.0)\n",
      "Requirement already satisfied: absl-py>=1.0.0 in d:\\coding projects\\deep-face-detection\\.venv\\lib\\site-packages (from tensorflow-intel==2.18.0->tensorflow) (2.1.0)\n",
      "Requirement already satisfied: astunparse>=1.6.0 in d:\\coding projects\\deep-face-detection\\.venv\\lib\\site-packages (from tensorflow-intel==2.18.0->tensorflow) (1.6.3)\n",
      "Requirement already satisfied: flatbuffers>=24.3.25 in d:\\coding projects\\deep-face-detection\\.venv\\lib\\site-packages (from tensorflow-intel==2.18.0->tensorflow) (24.3.25)\n",
      "Requirement already satisfied: gast!=0.5.0,!=0.5.1,!=0.5.2,>=0.2.1 in d:\\coding projects\\deep-face-detection\\.venv\\lib\\site-packages (from tensorflow-intel==2.18.0->tensorflow) (0.6.0)\n",
      "Requirement already satisfied: google-pasta>=0.1.1 in d:\\coding projects\\deep-face-detection\\.venv\\lib\\site-packages (from tensorflow-intel==2.18.0->tensorflow) (0.2.0)\n",
      "Requirement already satisfied: libclang>=13.0.0 in d:\\coding projects\\deep-face-detection\\.venv\\lib\\site-packages (from tensorflow-intel==2.18.0->tensorflow) (18.1.1)\n",
      "Requirement already satisfied: opt-einsum>=2.3.2 in d:\\coding projects\\deep-face-detection\\.venv\\lib\\site-packages (from tensorflow-intel==2.18.0->tensorflow) (3.4.0)\n",
      "Requirement already satisfied: packaging in d:\\coding projects\\deep-face-detection\\.venv\\lib\\site-packages (from tensorflow-intel==2.18.0->tensorflow) (24.1)\n",
      "Requirement already satisfied: protobuf!=4.21.0,!=4.21.1,!=4.21.2,!=4.21.3,!=4.21.4,!=4.21.5,<6.0.0dev,>=3.20.3 in d:\\coding projects\\deep-face-detection\\.venv\\lib\\site-packages (from tensorflow-intel==2.18.0->tensorflow) (5.28.3)\n",
      "Requirement already satisfied: requests<3,>=2.21.0 in d:\\coding projects\\deep-face-detection\\.venv\\lib\\site-packages (from tensorflow-intel==2.18.0->tensorflow) (2.32.3)\n",
      "Requirement already satisfied: setuptools in d:\\coding projects\\deep-face-detection\\.venv\\lib\\site-packages (from tensorflow-intel==2.18.0->tensorflow) (65.5.0)\n",
      "Requirement already satisfied: six>=1.12.0 in d:\\coding projects\\deep-face-detection\\.venv\\lib\\site-packages (from tensorflow-intel==2.18.0->tensorflow) (1.16.0)\n",
      "Requirement already satisfied: typing-extensions>=3.6.6 in d:\\coding projects\\deep-face-detection\\.venv\\lib\\site-packages (from tensorflow-intel==2.18.0->tensorflow) (4.12.2)\n",
      "Requirement already satisfied: wrapt>=1.11.0 in d:\\coding projects\\deep-face-detection\\.venv\\lib\\site-packages (from tensorflow-intel==2.18.0->tensorflow) (1.16.0)\n",
      "Requirement already satisfied: grpcio<2.0,>=1.24.3 in d:\\coding projects\\deep-face-detection\\.venv\\lib\\site-packages (from tensorflow-intel==2.18.0->tensorflow) (1.67.0)\n",
      "Requirement already satisfied: tensorboard<2.19,>=2.18 in d:\\coding projects\\deep-face-detection\\.venv\\lib\\site-packages (from tensorflow-intel==2.18.0->tensorflow) (2.18.0)\n",
      "Requirement already satisfied: keras>=3.5.0 in d:\\coding projects\\deep-face-detection\\.venv\\lib\\site-packages (from tensorflow-intel==2.18.0->tensorflow) (3.6.0)\n",
      "Requirement already satisfied: h5py>=3.11.0 in d:\\coding projects\\deep-face-detection\\.venv\\lib\\site-packages (from tensorflow-intel==2.18.0->tensorflow) (3.12.1)\n",
      "Requirement already satisfied: ml-dtypes<0.5.0,>=0.4.0 in d:\\coding projects\\deep-face-detection\\.venv\\lib\\site-packages (from tensorflow-intel==2.18.0->tensorflow) (0.4.1)\n",
      "Requirement already satisfied: tensorflow-io-gcs-filesystem>=0.23.1 in d:\\coding projects\\deep-face-detection\\.venv\\lib\\site-packages (from tensorflow-intel==2.18.0->tensorflow) (0.31.0)\n",
      "Requirement already satisfied: contourpy>=1.0.1 in d:\\coding projects\\deep-face-detection\\.venv\\lib\\site-packages (from matplotlib) (1.3.0)\n",
      "Requirement already satisfied: cycler>=0.10 in d:\\coding projects\\deep-face-detection\\.venv\\lib\\site-packages (from matplotlib) (0.12.1)\n",
      "Requirement already satisfied: fonttools>=4.22.0 in d:\\coding projects\\deep-face-detection\\.venv\\lib\\site-packages (from matplotlib) (4.54.1)\n",
      "Requirement already satisfied: kiwisolver>=1.3.1 in d:\\coding projects\\deep-face-detection\\.venv\\lib\\site-packages (from matplotlib) (1.4.7)\n",
      "Requirement already satisfied: pyparsing>=2.3.1 in d:\\coding projects\\deep-face-detection\\.venv\\lib\\site-packages (from matplotlib) (3.2.0)\n",
      "Requirement already satisfied: python-dateutil>=2.7 in d:\\coding projects\\deep-face-detection\\.venv\\lib\\site-packages (from matplotlib) (2.9.0.post0)\n",
      "Requirement already satisfied: scipy>=1.10.0 in d:\\coding projects\\deep-face-detection\\.venv\\lib\\site-packages (from albumentations) (1.14.1)\n",
      "Requirement already satisfied: pydantic>=2.7.0 in d:\\coding projects\\deep-face-detection\\.venv\\lib\\site-packages (from albumentations) (2.9.2)\n",
      "Requirement already satisfied: albucore==0.0.19 in d:\\coding projects\\deep-face-detection\\.venv\\lib\\site-packages (from albumentations) (0.0.19)\n",
      "Requirement already satisfied: eval-type-backport in d:\\coding projects\\deep-face-detection\\.venv\\lib\\site-packages (from albumentations) (0.2.0)\n",
      "Requirement already satisfied: opencv-python-headless>=4.9.0.80 in d:\\coding projects\\deep-face-detection\\.venv\\lib\\site-packages (from albumentations) (4.10.0.84)\n",
      "Requirement already satisfied: stringzilla>=3.10.4 in d:\\coding projects\\deep-face-detection\\.venv\\lib\\site-packages (from albucore==0.0.19->albumentations) (3.10.5)\n",
      "Requirement already satisfied: coloredlogs in d:\\coding projects\\deep-face-detection\\.venv\\lib\\site-packages (from onnxruntime!=1.16.0,>=1.14.1->labelme) (15.0.1)\n",
      "Requirement already satisfied: sympy in d:\\coding projects\\deep-face-detection\\.venv\\lib\\site-packages (from onnxruntime!=1.16.0,>=1.14.1->labelme) (1.13.3)\n",
      "Requirement already satisfied: annotated-types>=0.6.0 in d:\\coding projects\\deep-face-detection\\.venv\\lib\\site-packages (from pydantic>=2.7.0->albumentations) (0.7.0)\n",
      "Requirement already satisfied: pydantic-core==2.23.4 in d:\\coding projects\\deep-face-detection\\.venv\\lib\\site-packages (from pydantic>=2.7.0->albumentations) (2.23.4)\n",
      "Requirement already satisfied: PyQt5-sip<13,>=12.15 in d:\\coding projects\\deep-face-detection\\.venv\\lib\\site-packages (from PyQt5!=5.15.3,!=5.15.4->labelme) (12.15.0)\n",
      "Requirement already satisfied: PyQt5-Qt5<5.16.0,>=5.15.2 in d:\\coding projects\\deep-face-detection\\.venv\\lib\\site-packages (from PyQt5!=5.15.3,!=5.15.4->labelme) (5.15.2)\n",
      "Requirement already satisfied: beautifulsoup4 in d:\\coding projects\\deep-face-detection\\.venv\\lib\\site-packages (from gdown->labelme) (4.12.3)\n",
      "Requirement already satisfied: filelock in d:\\coding projects\\deep-face-detection\\.venv\\lib\\site-packages (from gdown->labelme) (3.16.1)\n",
      "Requirement already satisfied: tqdm in d:\\coding projects\\deep-face-detection\\.venv\\lib\\site-packages (from gdown->labelme) (4.66.5)\n",
      "Requirement already satisfied: networkx>=2.8 in d:\\coding projects\\deep-face-detection\\.venv\\lib\\site-packages (from scikit-image->labelme) (3.4.2)\n",
      "Requirement already satisfied: imageio>=2.33 in d:\\coding projects\\deep-face-detection\\.venv\\lib\\site-packages (from scikit-image->labelme) (2.36.0)\n",
      "Requirement already satisfied: tifffile>=2022.8.12 in d:\\coding projects\\deep-face-detection\\.venv\\lib\\site-packages (from scikit-image->labelme) (2024.9.20)\n",
      "Requirement already satisfied: lazy-loader>=0.4 in d:\\coding projects\\deep-face-detection\\.venv\\lib\\site-packages (from scikit-image->labelme) (0.4)\n",
      "Requirement already satisfied: wheel<1.0,>=0.23.0 in d:\\coding projects\\deep-face-detection\\.venv\\lib\\site-packages (from astunparse>=1.6.0->tensorflow-intel==2.18.0->tensorflow) (0.44.0)\n",
      "Requirement already satisfied: rich in d:\\coding projects\\deep-face-detection\\.venv\\lib\\site-packages (from keras>=3.5.0->tensorflow-intel==2.18.0->tensorflow) (13.9.3)\n",
      "Requirement already satisfied: namex in d:\\coding projects\\deep-face-detection\\.venv\\lib\\site-packages (from keras>=3.5.0->tensorflow-intel==2.18.0->tensorflow) (0.0.8)\n",
      "Requirement already satisfied: optree in d:\\coding projects\\deep-face-detection\\.venv\\lib\\site-packages (from keras>=3.5.0->tensorflow-intel==2.18.0->tensorflow) (0.13.0)\n",
      "Requirement already satisfied: charset-normalizer<4,>=2 in d:\\coding projects\\deep-face-detection\\.venv\\lib\\site-packages (from requests<3,>=2.21.0->tensorflow-intel==2.18.0->tensorflow) (3.4.0)\n",
      "Requirement already satisfied: idna<4,>=2.5 in d:\\coding projects\\deep-face-detection\\.venv\\lib\\site-packages (from requests<3,>=2.21.0->tensorflow-intel==2.18.0->tensorflow) (3.10)\n",
      "Requirement already satisfied: urllib3<3,>=1.21.1 in d:\\coding projects\\deep-face-detection\\.venv\\lib\\site-packages (from requests<3,>=2.21.0->tensorflow-intel==2.18.0->tensorflow) (2.2.3)\n",
      "Requirement already satisfied: certifi>=2017.4.17 in d:\\coding projects\\deep-face-detection\\.venv\\lib\\site-packages (from requests<3,>=2.21.0->tensorflow-intel==2.18.0->tensorflow) (2024.8.30)\n",
      "Requirement already satisfied: markdown>=2.6.8 in d:\\coding projects\\deep-face-detection\\.venv\\lib\\site-packages (from tensorboard<2.19,>=2.18->tensorflow-intel==2.18.0->tensorflow) (3.7)\n",
      "Requirement already satisfied: tensorboard-data-server<0.8.0,>=0.7.0 in d:\\coding projects\\deep-face-detection\\.venv\\lib\\site-packages (from tensorboard<2.19,>=2.18->tensorflow-intel==2.18.0->tensorflow) (0.7.2)\n",
      "Requirement already satisfied: werkzeug>=1.0.1 in d:\\coding projects\\deep-face-detection\\.venv\\lib\\site-packages (from tensorboard<2.19,>=2.18->tensorflow-intel==2.18.0->tensorflow) (3.0.6)\n",
      "Requirement already satisfied: soupsieve>1.2 in d:\\coding projects\\deep-face-detection\\.venv\\lib\\site-packages (from beautifulsoup4->gdown->labelme) (2.6)\n",
      "Requirement already satisfied: humanfriendly>=9.1 in d:\\coding projects\\deep-face-detection\\.venv\\lib\\site-packages (from coloredlogs->onnxruntime!=1.16.0,>=1.14.1->labelme) (10.0)\n",
      "Requirement already satisfied: PySocks!=1.5.7,>=1.5.6 in d:\\coding projects\\deep-face-detection\\.venv\\lib\\site-packages (from requests[socks]->gdown->labelme) (1.7.1)\n",
      "Requirement already satisfied: mpmath<1.4,>=1.1.0 in d:\\coding projects\\deep-face-detection\\.venv\\lib\\site-packages (from sympy->onnxruntime!=1.16.0,>=1.14.1->labelme) (1.3.0)\n",
      "Requirement already satisfied: pyreadline3 in d:\\coding projects\\deep-face-detection\\.venv\\lib\\site-packages (from humanfriendly>=9.1->coloredlogs->onnxruntime!=1.16.0,>=1.14.1->labelme) (3.5.4)\n",
      "Requirement already satisfied: MarkupSafe>=2.1.1 in d:\\coding projects\\deep-face-detection\\.venv\\lib\\site-packages (from werkzeug>=1.0.1->tensorboard<2.19,>=2.18->tensorflow-intel==2.18.0->tensorflow) (3.0.2)\n",
      "Requirement already satisfied: markdown-it-py>=2.2.0 in d:\\coding projects\\deep-face-detection\\.venv\\lib\\site-packages (from rich->keras>=3.5.0->tensorflow-intel==2.18.0->tensorflow) (3.0.0)\n",
      "Requirement already satisfied: pygments<3.0.0,>=2.13.0 in d:\\coding projects\\deep-face-detection\\.venv\\lib\\site-packages (from rich->keras>=3.5.0->tensorflow-intel==2.18.0->tensorflow) (2.18.0)\n",
      "Requirement already satisfied: mdurl~=0.1 in d:\\coding projects\\deep-face-detection\\.venv\\lib\\site-packages (from markdown-it-py>=2.2.0->rich->keras>=3.5.0->tensorflow-intel==2.18.0->tensorflow) (0.1.2)\n",
      "Using cached tensorflow-2.18.0-cp311-cp311-win_amd64.whl (7.5 kB)\n",
      "Installing collected packages: labelme, tensorflow\n",
      "Successfully installed labelme-5.5.0 tensorflow-2.18.0\n",
      "Note: you may need to restart the kernel to use updated packages.\n"
     ]
    }
   ],
   "source": [
    "#getting all the dependencies \n",
    "%pip install labelme tensorflow opencv-python matplotlib albumentations"
   ]
  },
  {
   "cell_type": "markdown",
   "metadata": {},
   "source": [
    "**Collecting images using OpenCV**\n",
    "\n",
    "we will be using OpenCV to access our images and them annotate them using Label me..."
   ]
  },
  {
   "cell_type": "code",
   "execution_count": 2,
   "metadata": {},
   "outputs": [],
   "source": [
    "#importing all the libraries\n",
    "import os\n",
    "import time\n",
    "import uuid #giving our images a unique ID \n",
    "import cv2"
   ]
  },
  {
   "cell_type": "code",
   "execution_count": 4,
   "metadata": {},
   "outputs": [],
   "source": [
    "IMAGES_PATH = os.path.join('data','images')\n",
    "number_images = 30"
   ]
  },
  {
   "cell_type": "code",
   "execution_count": 5,
   "metadata": {},
   "outputs": [
    {
     "name": "stdout",
     "output_type": "stream",
     "text": [
      "Collecting image 0\n"
     ]
    },
    {
     "ename": "error",
     "evalue": "OpenCV(4.10.0) D:\\a\\opencv-python\\opencv-python\\opencv\\modules\\imgcodecs\\src\\loadsave.cpp:798: error: (-215:Assertion failed) !_img.empty() in function 'cv::imwrite'\n",
     "output_type": "error",
     "traceback": [
      "\u001b[1;31m---------------------------------------------------------------------------\u001b[0m",
      "\u001b[1;31merror\u001b[0m                                     Traceback (most recent call last)",
      "Cell \u001b[1;32mIn[5], line 6\u001b[0m\n\u001b[0;32m      4\u001b[0m ret, frame \u001b[38;5;241m=\u001b[39m cap\u001b[38;5;241m.\u001b[39mread()\n\u001b[0;32m      5\u001b[0m imgname \u001b[38;5;241m=\u001b[39m os\u001b[38;5;241m.\u001b[39mpath\u001b[38;5;241m.\u001b[39mjoin(IMAGES_PATH,\u001b[38;5;124mf\u001b[39m\u001b[38;5;124m'\u001b[39m\u001b[38;5;132;01m{\u001b[39;00m\u001b[38;5;28mstr\u001b[39m(uuid\u001b[38;5;241m.\u001b[39muuid1())\u001b[38;5;132;01m}\u001b[39;00m\u001b[38;5;124m.jpg\u001b[39m\u001b[38;5;124m'\u001b[39m)\n\u001b[1;32m----> 6\u001b[0m \u001b[43mcv2\u001b[49m\u001b[38;5;241;43m.\u001b[39;49m\u001b[43mimwrite\u001b[49m\u001b[43m(\u001b[49m\u001b[43mimgname\u001b[49m\u001b[43m,\u001b[49m\u001b[43m \u001b[49m\u001b[43mframe\u001b[49m\u001b[43m)\u001b[49m\n\u001b[0;32m      7\u001b[0m cv2\u001b[38;5;241m.\u001b[39mimshow(\u001b[38;5;124m'\u001b[39m\u001b[38;5;124mframe\u001b[39m\u001b[38;5;124m'\u001b[39m, frame)\n\u001b[0;32m      8\u001b[0m time\u001b[38;5;241m.\u001b[39msleep(\u001b[38;5;241m0.5\u001b[39m)\n",
      "\u001b[1;31merror\u001b[0m: OpenCV(4.10.0) D:\\a\\opencv-python\\opencv-python\\opencv\\modules\\imgcodecs\\src\\loadsave.cpp:798: error: (-215:Assertion failed) !_img.empty() in function 'cv::imwrite'\n"
     ]
    }
   ],
   "source": [
    "cap = cv2.VideoCapture(1)\n",
    "for imgnum in range(number_images):\n",
    "    print('Collecting image {}'.format(imgnum))\n",
    "    ret, frame = cap.read()\n",
    "    imgname = os.path.join(IMAGES_PATH,f'{str(uuid.uuid1())}.jpg')\n",
    "    cv2.imwrite(imgname, frame)\n",
    "    cv2.imshow('frame', frame)\n",
    "    time.sleep(0.5)\n",
    "\n",
    "    if cv2.waitKey(1) & 0xFF == ord('q'):\n",
    "        break\n",
    "cap.release()\n",
    "cv2.destroyAllWindows()"
   ]
  }
 ],
 "metadata": {
  "kernelspec": {
   "display_name": ".venv",
   "language": "python",
   "name": "python3"
  },
  "language_info": {
   "codemirror_mode": {
    "name": "ipython",
    "version": 3
   },
   "file_extension": ".py",
   "mimetype": "text/x-python",
   "name": "python",
   "nbconvert_exporter": "python",
   "pygments_lexer": "ipython3",
   "version": "3.11.9"
  }
 },
 "nbformat": 4,
 "nbformat_minor": 2
}
